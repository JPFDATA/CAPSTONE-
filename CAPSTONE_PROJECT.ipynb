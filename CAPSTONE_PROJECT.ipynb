{
  "nbformat": 4,
  "nbformat_minor": 0,
  "metadata": {
    "colab": {
      "provenance": []
    },
    "kernelspec": {
      "name": "python3",
      "display_name": "Python 3"
    },
    "language_info": {
      "name": "python"
    }
  },
  "cells": [
    {
      "cell_type": "code",
      "execution_count": null,
      "metadata": {
        "id": "g2729FgD5Klu"
      },
      "outputs": [],
      "source": [
        "import pandas as pd"
      ]
    },
    {
      "cell_type": "code",
      "source": [
        "import matplotlib.pyplot as plt\n"
      ],
      "metadata": {
        "id": "uva5QiKe5RlM"
      },
      "execution_count": null,
      "outputs": []
    },
    {
      "cell_type": "code",
      "source": [
        "import numpy as np"
      ],
      "metadata": {
        "id": "hGfNnr7j5WlS"
      },
      "execution_count": null,
      "outputs": []
    },
    {
      "cell_type": "code",
      "source": [
        "import seaborn as sns\n",
        "%matplotlib inline"
      ],
      "metadata": {
        "id": "DuXn6BQ_5nrg"
      },
      "execution_count": null,
      "outputs": []
    },
    {
      "cell_type": "markdown",
      "source": [
        "REMOVE NULL VALUES"
      ],
      "metadata": {
        "id": "cJPKjR0PAGvQ"
      }
    },
    {
      "cell_type": "code",
      "source": [
        "purge_null = (['null'])\n",
        "df = pd.read_csv('/content/NYPD_Arrest_Data__Year_to_Date__20231219.csv',na_values=purge_null)"
      ],
      "metadata": {
        "id": "GeaBlq6u5z7Y"
      },
      "execution_count": null,
      "outputs": []
    },
    {
      "cell_type": "code",
      "source": [
        "df.shape"
      ],
      "metadata": {
        "colab": {
          "base_uri": "https://localhost:8080/"
        },
        "id": "IKzulZud6T1_",
        "outputId": "8b4a436d-0abb-4dac-8df2-eedfdb5e0978"
      },
      "execution_count": null,
      "outputs": [
        {
          "output_type": "execute_result",
          "data": {
            "text/plain": [
              "(170095, 19)"
            ]
          },
          "metadata": {},
          "execution_count": 6
        }
      ]
    },
    {
      "cell_type": "code",
      "source": [
        "df.columns"
      ],
      "metadata": {
        "colab": {
          "base_uri": "https://localhost:8080/"
        },
        "id": "gflrlpMZJTqQ",
        "outputId": "a8a9a167-4e0e-48b0-f024-614cb2ef4240"
      },
      "execution_count": null,
      "outputs": [
        {
          "output_type": "execute_result",
          "data": {
            "text/plain": [
              "Index(['ARREST_KEY', 'ARREST_DATE', 'PD_CD', 'PD_DESC', 'KY_CD', 'OFNS_DESC',\n",
              "       'LAW_CODE', 'LAW_CAT_CD', 'ARREST_BORO', 'ARREST_PRECINCT',\n",
              "       'JURISDICTION_CODE', 'AGE_GROUP', 'PERP_SEX', 'PERP_RACE', 'X_COORD_CD',\n",
              "       'Y_COORD_CD', 'Latitude', 'Longitude', 'New Georeferenced Column'],\n",
              "      dtype='object')"
            ]
          },
          "metadata": {},
          "execution_count": 7
        }
      ]
    },
    {
      "cell_type": "markdown",
      "source": [],
      "metadata": {
        "id": "8EXqyV7SMHCz"
      }
    },
    {
      "cell_type": "markdown",
      "source": [
        "FILTER DATA SET"
      ],
      "metadata": {
        "id": "joHn6FHPgRGi"
      }
    },
    {
      "cell_type": "code",
      "source": [
        "df[['LAW_CAT_CD','ARREST_BORO', 'PERP_RACE']]\n"
      ],
      "metadata": {
        "colab": {
          "base_uri": "https://localhost:8080/",
          "height": 424
        },
        "id": "5xaFKVwUdfaT",
        "outputId": "af859fad-06c6-4de5-c0c4-cfe577b386e8"
      },
      "execution_count": null,
      "outputs": [
        {
          "output_type": "execute_result",
          "data": {
            "text/plain": [
              "       LAW_CAT_CD ARREST_BORO       PERP_RACE\n",
              "0               F           K           BLACK\n",
              "1               F           K           BLACK\n",
              "2               F           K           WHITE\n",
              "3               F           M           BLACK\n",
              "4               F           K           BLACK\n",
              "...           ...         ...             ...\n",
              "170090          F           B           BLACK\n",
              "170091          M           B           BLACK\n",
              "170092          M           S  WHITE HISPANIC\n",
              "170093          M           K           BLACK\n",
              "170094          F           K           BLACK\n",
              "\n",
              "[170095 rows x 3 columns]"
            ],
            "text/html": [
              "\n",
              "  <div id=\"df-96a59dfb-1b8a-4320-b95b-42f152bc2c4a\" class=\"colab-df-container\">\n",
              "    <div>\n",
              "<style scoped>\n",
              "    .dataframe tbody tr th:only-of-type {\n",
              "        vertical-align: middle;\n",
              "    }\n",
              "\n",
              "    .dataframe tbody tr th {\n",
              "        vertical-align: top;\n",
              "    }\n",
              "\n",
              "    .dataframe thead th {\n",
              "        text-align: right;\n",
              "    }\n",
              "</style>\n",
              "<table border=\"1\" class=\"dataframe\">\n",
              "  <thead>\n",
              "    <tr style=\"text-align: right;\">\n",
              "      <th></th>\n",
              "      <th>LAW_CAT_CD</th>\n",
              "      <th>ARREST_BORO</th>\n",
              "      <th>PERP_RACE</th>\n",
              "    </tr>\n",
              "  </thead>\n",
              "  <tbody>\n",
              "    <tr>\n",
              "      <th>0</th>\n",
              "      <td>F</td>\n",
              "      <td>K</td>\n",
              "      <td>BLACK</td>\n",
              "    </tr>\n",
              "    <tr>\n",
              "      <th>1</th>\n",
              "      <td>F</td>\n",
              "      <td>K</td>\n",
              "      <td>BLACK</td>\n",
              "    </tr>\n",
              "    <tr>\n",
              "      <th>2</th>\n",
              "      <td>F</td>\n",
              "      <td>K</td>\n",
              "      <td>WHITE</td>\n",
              "    </tr>\n",
              "    <tr>\n",
              "      <th>3</th>\n",
              "      <td>F</td>\n",
              "      <td>M</td>\n",
              "      <td>BLACK</td>\n",
              "    </tr>\n",
              "    <tr>\n",
              "      <th>4</th>\n",
              "      <td>F</td>\n",
              "      <td>K</td>\n",
              "      <td>BLACK</td>\n",
              "    </tr>\n",
              "    <tr>\n",
              "      <th>...</th>\n",
              "      <td>...</td>\n",
              "      <td>...</td>\n",
              "      <td>...</td>\n",
              "    </tr>\n",
              "    <tr>\n",
              "      <th>170090</th>\n",
              "      <td>F</td>\n",
              "      <td>B</td>\n",
              "      <td>BLACK</td>\n",
              "    </tr>\n",
              "    <tr>\n",
              "      <th>170091</th>\n",
              "      <td>M</td>\n",
              "      <td>B</td>\n",
              "      <td>BLACK</td>\n",
              "    </tr>\n",
              "    <tr>\n",
              "      <th>170092</th>\n",
              "      <td>M</td>\n",
              "      <td>S</td>\n",
              "      <td>WHITE HISPANIC</td>\n",
              "    </tr>\n",
              "    <tr>\n",
              "      <th>170093</th>\n",
              "      <td>M</td>\n",
              "      <td>K</td>\n",
              "      <td>BLACK</td>\n",
              "    </tr>\n",
              "    <tr>\n",
              "      <th>170094</th>\n",
              "      <td>F</td>\n",
              "      <td>K</td>\n",
              "      <td>BLACK</td>\n",
              "    </tr>\n",
              "  </tbody>\n",
              "</table>\n",
              "<p>170095 rows × 3 columns</p>\n",
              "</div>\n",
              "    <div class=\"colab-df-buttons\">\n",
              "\n",
              "  <div class=\"colab-df-container\">\n",
              "    <button class=\"colab-df-convert\" onclick=\"convertToInteractive('df-96a59dfb-1b8a-4320-b95b-42f152bc2c4a')\"\n",
              "            title=\"Convert this dataframe to an interactive table.\"\n",
              "            style=\"display:none;\">\n",
              "\n",
              "  <svg xmlns=\"http://www.w3.org/2000/svg\" height=\"24px\" viewBox=\"0 -960 960 960\">\n",
              "    <path d=\"M120-120v-720h720v720H120Zm60-500h600v-160H180v160Zm220 220h160v-160H400v160Zm0 220h160v-160H400v160ZM180-400h160v-160H180v160Zm440 0h160v-160H620v160ZM180-180h160v-160H180v160Zm440 0h160v-160H620v160Z\"/>\n",
              "  </svg>\n",
              "    </button>\n",
              "\n",
              "  <style>\n",
              "    .colab-df-container {\n",
              "      display:flex;\n",
              "      gap: 12px;\n",
              "    }\n",
              "\n",
              "    .colab-df-convert {\n",
              "      background-color: #E8F0FE;\n",
              "      border: none;\n",
              "      border-radius: 50%;\n",
              "      cursor: pointer;\n",
              "      display: none;\n",
              "      fill: #1967D2;\n",
              "      height: 32px;\n",
              "      padding: 0 0 0 0;\n",
              "      width: 32px;\n",
              "    }\n",
              "\n",
              "    .colab-df-convert:hover {\n",
              "      background-color: #E2EBFA;\n",
              "      box-shadow: 0px 1px 2px rgba(60, 64, 67, 0.3), 0px 1px 3px 1px rgba(60, 64, 67, 0.15);\n",
              "      fill: #174EA6;\n",
              "    }\n",
              "\n",
              "    .colab-df-buttons div {\n",
              "      margin-bottom: 4px;\n",
              "    }\n",
              "\n",
              "    [theme=dark] .colab-df-convert {\n",
              "      background-color: #3B4455;\n",
              "      fill: #D2E3FC;\n",
              "    }\n",
              "\n",
              "    [theme=dark] .colab-df-convert:hover {\n",
              "      background-color: #434B5C;\n",
              "      box-shadow: 0px 1px 3px 1px rgba(0, 0, 0, 0.15);\n",
              "      filter: drop-shadow(0px 1px 2px rgba(0, 0, 0, 0.3));\n",
              "      fill: #FFFFFF;\n",
              "    }\n",
              "  </style>\n",
              "\n",
              "    <script>\n",
              "      const buttonEl =\n",
              "        document.querySelector('#df-96a59dfb-1b8a-4320-b95b-42f152bc2c4a button.colab-df-convert');\n",
              "      buttonEl.style.display =\n",
              "        google.colab.kernel.accessAllowed ? 'block' : 'none';\n",
              "\n",
              "      async function convertToInteractive(key) {\n",
              "        const element = document.querySelector('#df-96a59dfb-1b8a-4320-b95b-42f152bc2c4a');\n",
              "        const dataTable =\n",
              "          await google.colab.kernel.invokeFunction('convertToInteractive',\n",
              "                                                    [key], {});\n",
              "        if (!dataTable) return;\n",
              "\n",
              "        const docLinkHtml = 'Like what you see? Visit the ' +\n",
              "          '<a target=\"_blank\" href=https://colab.research.google.com/notebooks/data_table.ipynb>data table notebook</a>'\n",
              "          + ' to learn more about interactive tables.';\n",
              "        element.innerHTML = '';\n",
              "        dataTable['output_type'] = 'display_data';\n",
              "        await google.colab.output.renderOutput(dataTable, element);\n",
              "        const docLink = document.createElement('div');\n",
              "        docLink.innerHTML = docLinkHtml;\n",
              "        element.appendChild(docLink);\n",
              "      }\n",
              "    </script>\n",
              "  </div>\n",
              "\n",
              "\n",
              "<div id=\"df-87a072ff-014b-418f-9ca6-ad8fe9432451\">\n",
              "  <button class=\"colab-df-quickchart\" onclick=\"quickchart('df-87a072ff-014b-418f-9ca6-ad8fe9432451')\"\n",
              "            title=\"Suggest charts\"\n",
              "            style=\"display:none;\">\n",
              "\n",
              "<svg xmlns=\"http://www.w3.org/2000/svg\" height=\"24px\"viewBox=\"0 0 24 24\"\n",
              "     width=\"24px\">\n",
              "    <g>\n",
              "        <path d=\"M19 3H5c-1.1 0-2 .9-2 2v14c0 1.1.9 2 2 2h14c1.1 0 2-.9 2-2V5c0-1.1-.9-2-2-2zM9 17H7v-7h2v7zm4 0h-2V7h2v10zm4 0h-2v-4h2v4z\"/>\n",
              "    </g>\n",
              "</svg>\n",
              "  </button>\n",
              "\n",
              "<style>\n",
              "  .colab-df-quickchart {\n",
              "      --bg-color: #E8F0FE;\n",
              "      --fill-color: #1967D2;\n",
              "      --hover-bg-color: #E2EBFA;\n",
              "      --hover-fill-color: #174EA6;\n",
              "      --disabled-fill-color: #AAA;\n",
              "      --disabled-bg-color: #DDD;\n",
              "  }\n",
              "\n",
              "  [theme=dark] .colab-df-quickchart {\n",
              "      --bg-color: #3B4455;\n",
              "      --fill-color: #D2E3FC;\n",
              "      --hover-bg-color: #434B5C;\n",
              "      --hover-fill-color: #FFFFFF;\n",
              "      --disabled-bg-color: #3B4455;\n",
              "      --disabled-fill-color: #666;\n",
              "  }\n",
              "\n",
              "  .colab-df-quickchart {\n",
              "    background-color: var(--bg-color);\n",
              "    border: none;\n",
              "    border-radius: 50%;\n",
              "    cursor: pointer;\n",
              "    display: none;\n",
              "    fill: var(--fill-color);\n",
              "    height: 32px;\n",
              "    padding: 0;\n",
              "    width: 32px;\n",
              "  }\n",
              "\n",
              "  .colab-df-quickchart:hover {\n",
              "    background-color: var(--hover-bg-color);\n",
              "    box-shadow: 0 1px 2px rgba(60, 64, 67, 0.3), 0 1px 3px 1px rgba(60, 64, 67, 0.15);\n",
              "    fill: var(--button-hover-fill-color);\n",
              "  }\n",
              "\n",
              "  .colab-df-quickchart-complete:disabled,\n",
              "  .colab-df-quickchart-complete:disabled:hover {\n",
              "    background-color: var(--disabled-bg-color);\n",
              "    fill: var(--disabled-fill-color);\n",
              "    box-shadow: none;\n",
              "  }\n",
              "\n",
              "  .colab-df-spinner {\n",
              "    border: 2px solid var(--fill-color);\n",
              "    border-color: transparent;\n",
              "    border-bottom-color: var(--fill-color);\n",
              "    animation:\n",
              "      spin 1s steps(1) infinite;\n",
              "  }\n",
              "\n",
              "  @keyframes spin {\n",
              "    0% {\n",
              "      border-color: transparent;\n",
              "      border-bottom-color: var(--fill-color);\n",
              "      border-left-color: var(--fill-color);\n",
              "    }\n",
              "    20% {\n",
              "      border-color: transparent;\n",
              "      border-left-color: var(--fill-color);\n",
              "      border-top-color: var(--fill-color);\n",
              "    }\n",
              "    30% {\n",
              "      border-color: transparent;\n",
              "      border-left-color: var(--fill-color);\n",
              "      border-top-color: var(--fill-color);\n",
              "      border-right-color: var(--fill-color);\n",
              "    }\n",
              "    40% {\n",
              "      border-color: transparent;\n",
              "      border-right-color: var(--fill-color);\n",
              "      border-top-color: var(--fill-color);\n",
              "    }\n",
              "    60% {\n",
              "      border-color: transparent;\n",
              "      border-right-color: var(--fill-color);\n",
              "    }\n",
              "    80% {\n",
              "      border-color: transparent;\n",
              "      border-right-color: var(--fill-color);\n",
              "      border-bottom-color: var(--fill-color);\n",
              "    }\n",
              "    90% {\n",
              "      border-color: transparent;\n",
              "      border-bottom-color: var(--fill-color);\n",
              "    }\n",
              "  }\n",
              "</style>\n",
              "\n",
              "  <script>\n",
              "    async function quickchart(key) {\n",
              "      const quickchartButtonEl =\n",
              "        document.querySelector('#' + key + ' button');\n",
              "      quickchartButtonEl.disabled = true;  // To prevent multiple clicks.\n",
              "      quickchartButtonEl.classList.add('colab-df-spinner');\n",
              "      try {\n",
              "        const charts = await google.colab.kernel.invokeFunction(\n",
              "            'suggestCharts', [key], {});\n",
              "      } catch (error) {\n",
              "        console.error('Error during call to suggestCharts:', error);\n",
              "      }\n",
              "      quickchartButtonEl.classList.remove('colab-df-spinner');\n",
              "      quickchartButtonEl.classList.add('colab-df-quickchart-complete');\n",
              "    }\n",
              "    (() => {\n",
              "      let quickchartButtonEl =\n",
              "        document.querySelector('#df-87a072ff-014b-418f-9ca6-ad8fe9432451 button');\n",
              "      quickchartButtonEl.style.display =\n",
              "        google.colab.kernel.accessAllowed ? 'block' : 'none';\n",
              "    })();\n",
              "  </script>\n",
              "</div>\n",
              "\n",
              "    </div>\n",
              "  </div>\n"
            ]
          },
          "metadata": {},
          "execution_count": 8
        }
      ]
    },
    {
      "cell_type": "markdown",
      "source": [
        "FILTER RACES TO BLACK, WHITE, WHITE AND BLACK HISPANIC FOR COMPARISON"
      ],
      "metadata": {
        "id": "yNKuzN2ZffyV"
      }
    },
    {
      "cell_type": "code",
      "source": [
        "df = df[df['PERP_RACE'].isin(['WHITE HISPANIC', 'BLACK HISPANIC', 'BLACK', 'WHITE'])]"
      ],
      "metadata": {
        "id": "CpNzR96HMm_U"
      },
      "execution_count": null,
      "outputs": []
    },
    {
      "cell_type": "code",
      "source": [
        "df.groupby(['PERP_RACE'])['PERP_RACE'].count().sort_values(ascending = True)"
      ],
      "metadata": {
        "colab": {
          "base_uri": "https://localhost:8080/"
        },
        "id": "iZ195UjDKzqB",
        "outputId": "b9818227-5f83-4dea-877d-221d004c565b"
      },
      "execution_count": null,
      "outputs": [
        {
          "output_type": "execute_result",
          "data": {
            "text/plain": [
              "PERP_RACE\n",
              "WHITE             16373\n",
              "BLACK HISPANIC    16501\n",
              "WHITE HISPANIC    43081\n",
              "BLACK             82041\n",
              "Name: PERP_RACE, dtype: int64"
            ]
          },
          "metadata": {},
          "execution_count": 10
        }
      ]
    },
    {
      "cell_type": "markdown",
      "source": [
        "CREATE GRAPH BLACK AND WHITE, HISPANIC AND BLACK HISPANIC GRAPH FOR COMPARISON"
      ],
      "metadata": {
        "id": "S7WvIFLFfsUj"
      }
    },
    {
      "cell_type": "code",
      "source": [
        "df.groupby(['PERP_RACE'])['PERP_RACE'].count().sort_values(ascending=True).plot(kind='bar')\n",
        "plt.xlabel('Race')\n",
        "plt.ylabel('Count')\n",
        "plt.title('BLACK & WHITE, BLACK & WHITE HISPANIC CRIME IN NYC')\n",
        "plt.show()"
      ],
      "metadata": {
        "colab": {
          "base_uri": "https://localhost:8080/",
          "height": 572
        },
        "id": "FtxDqsfcQ2Jl",
        "outputId": "97cd13d3-46df-4b32-8216-0188c2541f82"
      },
      "execution_count": null,
      "outputs": [
        {
          "output_type": "display_data",
          "data": {
            "text/plain": [
              "<Figure size 640x480 with 1 Axes>"
            ],
            "image/png": "[encoded data removed]"
          },
          "metadata": {}
        }
      ]
    },
    {
      "cell_type": "markdown",
      "source": [],
      "metadata": {
        "id": "uJPiJuIwg1av"
      }
    },
    {
      "cell_type": "markdown",
      "source": [
        "FILTER FOR BLACK HISPANIC / WHITE HISPANIC COMPARISON"
      ],
      "metadata": {
        "id": "0MQczG7sk96V"
      }
    },
    {
      "cell_type": "code",
      "source": [
        "df = df[df['PERP_RACE'].isin(['WHITE HISPANIC', 'BLACK HISPANIC'])]\n",
        "df['PERP_RACE'].unique()"
      ],
      "metadata": {
        "colab": {
          "base_uri": "https://localhost:8080/"
        },
        "id": "vzwQsmFPkMst",
        "outputId": "528b99e1-dfc8-4c26-bb24-9352d9db8254"
      },
      "execution_count": null,
      "outputs": [
        {
          "output_type": "execute_result",
          "data": {
            "text/plain": [
              "array(['WHITE HISPANIC', 'BLACK HISPANIC'], dtype=object)"
            ]
          },
          "metadata": {},
          "execution_count": 12
        }
      ]
    },
    {
      "cell_type": "markdown",
      "source": [
        "\n",
        "RENAMING ARREST BOROUGHS FOR CHARTING AND COMPARISON"
      ],
      "metadata": {
        "id": "seI5saRllHhS"
      }
    },
    {
      "cell_type": "code",
      "source": [
        "df['ARREST_BORO'].unique()"
      ],
      "metadata": {
        "colab": {
          "base_uri": "https://localhost:8080/"
        },
        "id": "QKs3quiIg0EC",
        "outputId": "574803db-0bed-49bb-ece2-ee1f0fbf3a09"
      },
      "execution_count": null,
      "outputs": [
        {
          "output_type": "execute_result",
          "data": {
            "text/plain": [
              "array(['M', 'B', 'Q', 'K', 'S'], dtype=object)"
            ]
          },
          "metadata": {},
          "execution_count": 13
        }
      ]
    },
    {
      "cell_type": "code",
      "source": [
        "boro_map = {\n",
        "    'K': 'Brooklyn',\n",
        "    'M': 'Manhattan',\n",
        "    'Q': 'Queens',\n",
        "    'B': 'Bronx',\n",
        "    'S': 'Staten Island'\n",
        "}\n",
        "\n",
        "df['ARREST_BORO'] = df['ARREST_BORO'].replace(boro_map)"
      ],
      "metadata": {
        "id": "pUZtFKlnhHLr"
      },
      "execution_count": null,
      "outputs": []
    },
    {
      "cell_type": "code",
      "source": [
        "df['ARREST_BORO'].unique()"
      ],
      "metadata": {
        "colab": {
          "base_uri": "https://localhost:8080/"
        },
        "id": "2rtKzDtehVsh",
        "outputId": "8c6fd33f-6f48-45e3-a7d7-b2aa257af78b"
      },
      "execution_count": null,
      "outputs": [
        {
          "output_type": "execute_result",
          "data": {
            "text/plain": [
              "array(['Manhattan', 'Bronx', 'Queens', 'Brooklyn', 'Staten Island'],\n",
              "      dtype=object)"
            ]
          },
          "metadata": {},
          "execution_count": 15
        }
      ]
    },
    {
      "cell_type": "markdown",
      "source": [
        "IDENTIFY LAW CATEGORIES THEN FILTER TO FELONY AND MISDEMEANOR"
      ],
      "metadata": {
        "id": "vwDcuZIHfBgW"
      }
    },
    {
      "cell_type": "code",
      "source": [
        "df['LAW_CAT_CD'].unique()"
      ],
      "metadata": {
        "colab": {
          "base_uri": "https://localhost:8080/"
        },
        "id": "pD4R22T6hl8D",
        "outputId": "b75f1470-77c9-470b-a874-fb9a799f7247"
      },
      "execution_count": null,
      "outputs": [
        {
          "output_type": "execute_result",
          "data": {
            "text/plain": [
              "array(['F', 'M', '9', nan, 'V', 'I'], dtype=object)"
            ]
          },
          "metadata": {},
          "execution_count": 16
        }
      ]
    },
    {
      "cell_type": "code",
      "source": [
        "df = df[df['LAW_CAT_CD'].isin(['F','M'])]"
      ],
      "metadata": {
        "id": "_ZeZWJM_eGAx"
      },
      "execution_count": null,
      "outputs": []
    },
    {
      "cell_type": "code",
      "source": [
        "df['LAW_CAT_CD'].unique()"
      ],
      "metadata": {
        "colab": {
          "base_uri": "https://localhost:8080/"
        },
        "id": "jsThvGW6oewN",
        "outputId": "28042bc6-8cd1-4d1f-a5e7-dbfe9827bff3"
      },
      "execution_count": null,
      "outputs": [
        {
          "output_type": "execute_result",
          "data": {
            "text/plain": [
              "array(['F', 'M'], dtype=object)"
            ]
          },
          "metadata": {},
          "execution_count": 18
        }
      ]
    },
    {
      "cell_type": "code",
      "source": [
        "charge_key = {'F': 'Felony', 'M': 'Misdemeanor'}\n",
        "df['LAW_CAT_CD'] = df['LAW_CAT_CD'].replace(charge_key)\n"
      ],
      "metadata": {
        "id": "Wf35F-UXlts-"
      },
      "execution_count": null,
      "outputs": []
    },
    {
      "cell_type": "code",
      "source": [
        "df['LAW_CAT_CD'].unique()"
      ],
      "metadata": {
        "id": "EQVoBcHXl1cO",
        "colab": {
          "base_uri": "https://localhost:8080/"
        },
        "outputId": "48a7dc6d-e66e-4e87-ea1f-5fc7916fc82f"
      },
      "execution_count": null,
      "outputs": [
        {
          "output_type": "execute_result",
          "data": {
            "text/plain": [
              "array(['Felony', 'Misdemeanor'], dtype=object)"
            ]
          },
          "metadata": {},
          "execution_count": 22
        }
      ]
    },
    {
      "cell_type": "markdown",
      "source": [],
      "metadata": {
        "id": "qJClv68Jx6FN"
      }
    },
    {
      "cell_type": "code",
      "source": [
        "df.groupby(['LAW_CAT_CD'])['LAW_CAT_CD'].count().sort_values(ascending = True)"
      ],
      "metadata": {
        "colab": {
          "base_uri": "https://localhost:8080/"
        },
        "id": "wvhtzf2zpgX3",
        "outputId": "8155d34f-0fc1-49c2-95fb-aba0df210079"
      },
      "execution_count": null,
      "outputs": [
        {
          "output_type": "execute_result",
          "data": {
            "text/plain": [
              "LAW_CAT_CD\n",
              "Felony         24755\n",
              "Misdemeanor    33752\n",
              "Name: LAW_CAT_CD, dtype: int64"
            ]
          },
          "metadata": {},
          "execution_count": 23
        }
      ]
    },
    {
      "cell_type": "markdown",
      "source": [
        "INDIVIDUAL COUNT OF FELONY AND MISDEMEANOR CHARGES FOR BLACK AND WHITE HISPANICS"
      ],
      "metadata": {
        "id": "S3-fUQJG07Ee"
      }
    },
    {
      "cell_type": "code",
      "source": [
        "felony_data = df[df['LAW_CAT_CD'] == 'Felony']\n",
        "filtered_data = felony_data[ (felony_data['PERP_RACE'] == 'BLACK HISPANIC') | (felony_data['PERP_RACE'] == 'WHITE HISPANIC') | (felony_data['PERP_RACE'] == 'WHITE')]\n",
        "felony_counts = filtered_data['PERP_RACE'].value_counts()\n",
        "print(felony_counts)"
      ],
      "metadata": {
        "colab": {
          "base_uri": "https://localhost:8080/"
        },
        "id": "1EOv89x_ynz4",
        "outputId": "08b0c061-1605-44a8-b74d-1b25605d446e"
      },
      "execution_count": null,
      "outputs": [
        {
          "output_type": "stream",
          "name": "stdout",
          "text": [
            "WHITE HISPANIC    17749\n",
            "BLACK HISPANIC     7006\n",
            "Name: PERP_RACE, dtype: int64\n"
          ]
        }
      ]
    },
    {
      "cell_type": "code",
      "source": [
        "misdemeanor_data = df[df['LAW_CAT_CD'] == 'Misdemeanor']\n",
        "filtered_data = misdemeanor_data[ (misdemeanor_data['PERP_RACE'] == 'BLACK HISPANIC') | (misdemeanor_data['PERP_RACE'] == 'WHITE HISPANIC') | (misdemeanor_data['PERP_RACE'] == 'WHITE')]\n",
        "misdemeanor_counts = filtered_data['PERP_RACE'].value_counts()\n",
        "print(misdemeanor_counts)"
      ],
      "metadata": {
        "colab": {
          "base_uri": "https://localhost:8080/"
        },
        "id": "HwodjEpH0F1b",
        "outputId": "9a640684-47eb-4626-8377-68573994018c"
      },
      "execution_count": null,
      "outputs": [
        {
          "output_type": "stream",
          "name": "stdout",
          "text": [
            "WHITE HISPANIC    24578\n",
            "BLACK HISPANIC     9174\n",
            "Name: PERP_RACE, dtype: int64\n"
          ]
        }
      ]
    },
    {
      "cell_type": "markdown",
      "source": [
        "BAR CHART SHOWING ALL HISPANIC CRIME IN NYC"
      ],
      "metadata": {
        "id": "gaffo58P4c_Q"
      }
    },
    {
      "cell_type": "code",
      "source": [
        "df.groupby(['ARREST_BORO'])['ARREST_BORO'].count().sort_values(ascending=True).plot(kind='bar')\n",
        "plt.xlabel('Borough')\n",
        "plt.ylabel('Count')\n",
        "plt.title('HISPANIC CRIME IN NYC')\n",
        "plt.show()"
      ],
      "metadata": {
        "colab": {
          "base_uri": "https://localhost:8080/",
          "height": 549
        },
        "id": "rruW6Oag4ZiS",
        "outputId": "7f60776b-5d2c-4404-bdff-e96d9f13b83e"
      },
      "execution_count": null,
      "outputs": [
        {
          "output_type": "display_data",
          "data": {
            "text/plain": [
              "<Figure size 640x480 with 1 Axes>"
            ],
            "image/png": "[encoded data removed]"
          },
          "metadata": {}
        }
      ]
    },
    {
      "cell_type": "markdown",
      "source": [
        "BAR CHART SHOWING BLACK & WHITE HISPANIC CRIME COMPARRISON"
      ],
      "metadata": {
        "id": "VEWDBlaj3iiJ"
      }
    },
    {
      "cell_type": "code",
      "source": [
        "df.groupby(['PERP_RACE'])['PERP_RACE'].count().sort_values(ascending=True).plot(kind='bar')\n",
        "plt.xlabel('Race')\n",
        "plt.ylabel('Count')\n",
        "plt.title('BLACK & WHITE HISPANIC CRIME COMPARISON')\n",
        "\n",
        "plt.show()"
      ],
      "metadata": {
        "colab": {
          "base_uri": "https://localhost:8080/",
          "height": 572
        },
        "id": "6CxozsOU3T4-",
        "outputId": "0c25727d-d520-481c-b953-bebc79e6b10f"
      },
      "execution_count": null,
      "outputs": [
        {
          "output_type": "display_data",
          "data": {
            "text/plain": [
              "<Figure size 640x480 with 1 Axes>"
            ],
            "image/png": "[encoded data removed]"
          },
          "metadata": {}
        }
      ]
    },
    {
      "cell_type": "markdown",
      "source": [
        "BAR CHART SHOWING BLACK & WHITE HISPANIC ARRESTS BY BOROUGH"
      ],
      "metadata": {
        "id": "JHebyhpr6DGu"
      }
    },
    {
      "cell_type": "code",
      "source": [
        "df.groupby(['PERP_RACE', 'ARREST_BORO'])['PERP_RACE'].count().unstack().fillna(0).plot(kind='bar')\n",
        "plt.xlabel('Borough')\n",
        "plt.ylabel('Count')\n",
        "plt.title('BLACK HISPANIC & WHITE HISPANIC ARRESTS BY BOROUGH')\n",
        "plt.show()"
      ],
      "metadata": {
        "colab": {
          "base_uri": "https://localhost:8080/",
          "height": 572
        },
        "id": "3K9bCDg35fhE",
        "outputId": "b9de8964-53a3-4526-edb5-7616750282f6"
      },
      "execution_count": null,
      "outputs": [
        {
          "output_type": "display_data",
          "data": {
            "text/plain": [
              "<Figure size 640x480 with 1 Axes>"
            ],
            "image/png": "[encoded data removed]"
          },
          "metadata": {}
        }
      ]
    }
  ]
}